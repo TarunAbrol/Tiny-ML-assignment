{
  "nbformat": 4,
  "nbformat_minor": 0,
  "metadata": {
    "colab": {
      "provenance": []
    },
    "kernelspec": {
      "name": "python3",
      "display_name": "Python 3"
    },
    "language_info": {
      "name": "python"
    }
  },
  "cells": [
    {
      "cell_type": "code",
      "execution_count": 1,
      "metadata": {
        "id": "peFMbRUD1jIM"
      },
      "outputs": [],
      "source": [
        "import tensorflow as tf\n",
        "import numpy as np\n",
        "import matplotlib.pyplot as plt"
      ]
    },
    {
      "cell_type": "code",
      "source": [
        "x_input = input(\"Enter x values (separated by spaces): \")\n",
        "y_input = input(\"Enter y values (separated by spaces): \")\n"
      ],
      "metadata": {
        "colab": {
          "base_uri": "https://localhost:8080/"
        },
        "id": "cTJDL1d_16Gi",
        "outputId": "92b6ad65-d4b3-40d7-88d8-f96aac875fd9"
      },
      "execution_count": 2,
      "outputs": [
        {
          "name": "stdout",
          "output_type": "stream",
          "text": [
            "Enter x values (separated by spaces): 2 1 4 7 5\n",
            "Enter y values (separated by spaces): 2 5 6 7 8\n"
          ]
        }
      ]
    },
    {
      "cell_type": "code",
      "source": [
        "x = np.array(x_input.split(), dtype=np.float32)\n",
        "y = np.array(y_input.split(), dtype=np.float32)"
      ],
      "metadata": {
        "id": "npfHNwXb1-DC"
      },
      "execution_count": 3,
      "outputs": []
    },
    {
      "cell_type": "code",
      "source": [
        "x = x.reshape(-1, 1)\n",
        "y = y.reshape(-1, 1)"
      ],
      "metadata": {
        "id": "b8MYoQPC2Bit"
      },
      "execution_count": 4,
      "outputs": []
    },
    {
      "cell_type": "code",
      "source": [
        "model = tf.keras.Sequential([\n",
        "    tf.keras.layers.Dense(units=1, input_shape=[1])\n",
        "])\n"
      ],
      "metadata": {
        "id": "N6jnZUf32EbD"
      },
      "execution_count": 5,
      "outputs": []
    },
    {
      "cell_type": "code",
      "source": [
        "model.compile(optimizer='sgd', loss='mean_squared_error')"
      ],
      "metadata": {
        "id": "mBnMmkvb2Gdq"
      },
      "execution_count": 6,
      "outputs": []
    },
    {
      "cell_type": "code",
      "source": [
        "history = model.fit(x, y, epochs=1000, verbose=0)"
      ],
      "metadata": {
        "id": "qsGX6JRZ2IZh"
      },
      "execution_count": 7,
      "outputs": []
    },
    {
      "cell_type": "code",
      "source": [
        "\n",
        "y_pred = model.predict(x)\n"
      ],
      "metadata": {
        "colab": {
          "base_uri": "https://localhost:8080/"
        },
        "id": "DO4zbUxK2LWh",
        "outputId": "f1462c64-ecba-4d81-c96d-4ad6456e32c7"
      },
      "execution_count": 8,
      "outputs": [
        {
          "output_type": "stream",
          "name": "stdout",
          "text": [
            "1/1 [==============================] - 0s 77ms/step\n"
          ]
        }
      ]
    },
    {
      "cell_type": "code",
      "source": [
        "for i in range(len(x)):\n",
        "    print(f\"For x = {x[i][0]}, predicted y = {y_pred[i][0]:.2f}, actual y = {y[i][0]}\")"
      ],
      "metadata": {
        "colab": {
          "base_uri": "https://localhost:8080/"
        },
        "id": "UpIEBSSJ2OVK",
        "outputId": "49dc92ab-e511-4c81-8cbe-54b8e3437715"
      },
      "execution_count": 9,
      "outputs": [
        {
          "output_type": "stream",
          "name": "stdout",
          "text": [
            "For x = 2.0, predicted y = 4.35, actual y = 2.0\n",
            "For x = 1.0, predicted y = 3.66, actual y = 5.0\n",
            "For x = 4.0, predicted y = 5.73, actual y = 6.0\n",
            "For x = 7.0, predicted y = 7.80, actual y = 7.0\n",
            "For x = 5.0, predicted y = 6.42, actual y = 8.0\n"
          ]
        }
      ]
    },
    {
      "cell_type": "code",
      "source": [
        "user_input = float(input(\"Enter a value of x to predict y: \"))\n",
        "user_pred = model.predict([[user_input]])\n",
        "print(f\"For x = {user_input}, predicted y = {user_pred[0][0]:.2f}\")\n"
      ],
      "metadata": {
        "colab": {
          "base_uri": "https://localhost:8080/"
        },
        "id": "vxCdxuYI2R4y",
        "outputId": "ceaa2865-3675-4740-a228-5251b080d989"
      },
      "execution_count": 10,
      "outputs": [
        {
          "output_type": "stream",
          "name": "stdout",
          "text": [
            "Enter a value of x to predict y: 4\n",
            "1/1 [==============================] - 0s 37ms/step\n",
            "For x = 4.0, predicted y = 5.73\n"
          ]
        }
      ]
    },
    {
      "cell_type": "code",
      "source": [
        "plt.figure(figsize=(12, 6))\n",
        "\n",
        "plt.subplot(1, 2, 1)\n",
        "plt.plot(history.history['loss'])\n",
        "plt.title('Training Loss')\n",
        "plt.xlabel('Epoch')\n",
        "plt.ylabel('Loss')"
      ],
      "metadata": {
        "colab": {
          "base_uri": "https://localhost:8080/",
          "height": 581
        },
        "id": "b2WJgZHF2WJV",
        "outputId": "d1622828-2782-4501-b544-59c2c9b6985d"
      },
      "execution_count": 11,
      "outputs": [
        {
          "output_type": "execute_result",
          "data": {
            "text/plain": [
              "Text(0, 0.5, 'Loss')"
            ]
          },
          "metadata": {},
          "execution_count": 11
        },
        {
          "output_type": "display_data",
          "data": {
            "text/plain": [
              "<Figure size 1200x600 with 1 Axes>"
            ],
            "image/png": "[encoded data removed]"
          },
          "metadata": {}
        }
      ]
    },
    {
      "cell_type": "code",
      "source": [
        "plt.subplot(1, 2, 2)\n",
        "plt.scatter(x, y, label='Actual Data')\n",
        "plt.plot(x, y_pred, color='red', label='Regression Line')\n",
        "plt.title('Regression Line')\n",
        "plt.xlabel('x')\n",
        "plt.ylabel('y')\n",
        "plt.legend()\n",
        "\n",
        "plt.tight_layout()\n",
        "plt.show()"
      ],
      "metadata": {
        "colab": {
          "base_uri": "https://localhost:8080/",
          "height": 487
        },
        "id": "3ihwad0E2Z-L",
        "outputId": "3b244952-9dd4-4400-94f8-28e2a2b7ec5b"
      },
      "execution_count": 12,
      "outputs": [
        {
          "output_type": "display_data",
          "data": {
            "text/plain": [
              "<Figure size 640x480 with 1 Axes>"
            ],
            "image/png": "[encoded data removed]"
          },
          "metadata": {}
        }
      ]
    }
  ]
}